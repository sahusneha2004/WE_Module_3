{
  "nbformat": 4,
  "nbformat_minor": 0,
  "metadata": {
    "colab": {
      "provenance": [],
      "authorship_tag": "ABX9TyNGFXW9dvL/fgrEzMPNGHrF",
      "include_colab_link": true
    },
    "kernelspec": {
      "name": "python3",
      "display_name": "Python 3"
    },
    "language_info": {
      "name": "python"
    }
  },
  "cells": [
    {
      "cell_type": "markdown",
      "metadata": {
        "id": "view-in-github",
        "colab_type": "text"
      },
      "source": [
        "<a href=\"https://colab.research.google.com/github/dhvanithakkar/WE-Module-3/blob/main/Assignment3/GenAI_Assignment3.ipynb\" target=\"_parent\"><img src=\"https://colab.research.google.com/assets/colab-badge.svg\" alt=\"Open In Colab\"/></a>"
      ]
    },
    {
      "cell_type": "code",
      "source": [
        "from collections import Counter\n",
        "\n",
        "def n_of_a_kind(dice: list[int], n: int) -> bool:\n",
        "  \"\"\"Checks if a Yahtzee hand has n of a kind (3, 4, or 5 dice with the same value).\n",
        "\n",
        "  Args:\n",
        "      dice: A list of 5 dice values (1-6).\n",
        "      n: The number of dice that must have the same value (3, 4, or 5).\n",
        "\n",
        "  Returns:\n",
        "      True if the hand has n of a kind, False otherwise.\n",
        "  \"\"\"\n",
        "  dice_counts = Counter(dice)\n",
        "  return any(count >= n for count in dice_counts.values())\n",
        "\n",
        "def score(dice: list[int]):\n",
        "  \"\"\"Scores a Yahtzee hand across all categories,\n",
        "  or returns None if the input is invalid.\n",
        "\n",
        "  Args:\n",
        "      dice: A list of 5 dice values (1-6).\n",
        "\n",
        "  Returns:\n",
        "      A dictionary containing the score for each category,\n",
        "      or None if the input is invalid.\n",
        "  \"\"\"\n",
        "\n",
        "  # Validate dice input\n",
        "  if len(dice) != 5 or not all(1 <= die <= 6 for die in dice):\n",
        "    return None\n",
        "\n",
        "  scores = {\n",
        "      \"Ones\": upper_section_score(dice, 1),\n",
        "      \"Twos\": upper_section_score(dice, 2),\n",
        "      \"Threes\": upper_section_score(dice, 3),\n",
        "      \"Fours\": upper_section_score(dice, 4),\n",
        "      \"Fives\": upper_section_score(dice, 5),\n",
        "      \"Sixes\": upper_section_score(dice, 6),\n",
        "      \"Three of a Kind\": sum(dice) if n_of_a_kind(dice, 3) else 0,\n",
        "      \"Four of a Kind\": sum(dice) if n_of_a_kind(dice, 4) else 0,\n",
        "      \"Full House\": 0,\n",
        "      \"Small Straight\": 30 if sorted(set(dice)) in ([1, 2, 3, 4], [2, 3, 4, 5], [3, 4, 5, 6], [1, 2, 3, 4, 5], [2, 3, 4, 5, 6]) else 0,\n",
        "      \"Large Straight\": 40 if (set(dice) == {1, 2, 3, 4, 5} or set(dice) == {2, 3, 4, 5, 6}) else 0,\n",
        "      \"Yahtzee\": 50 if n_of_a_kind(dice, 5) else 0,  # Updated Yahtzee score\n",
        "      \"Chance\": sum(dice),\n",
        "  }\n",
        "\n",
        "  dice_counts = Counter(dice)\n",
        "\n",
        "  # Check for full house (unchanged)\n",
        "  if 2 in dice_counts.values() and 3 in dice_counts.values():\n",
        "    scores[\"Full House\"] = 25\n",
        "\n",
        "  return scores\n",
        "\n",
        "def upper_section_score(dice: list[int], target_value: int) -> int:\n",
        "  \"\"\"Scores a Yahtzee hand for a specific category in the upper section (ones, twos, etc.).\n",
        "\n",
        "  Args:\n",
        "      dice: A list of 5 dice values (1-6).\n",
        "      target_value: The target value to score (1-6).\n",
        "\n",
        "  Returns:\n",
        "      The score for the category, which is the sum of all dice values\n",
        "      that match the target value.\n",
        "  \"\"\"\n",
        "  return sum(die == target_value for die in dice) * target_value\n",
        "\n",
        "# Example usage\n",
        "hand1 = [2, 3, 4, 5, 5]  # Yahtzee\n",
        "hand2 = [3, 4, 5, 5, 6]  # Not Yahtzee\n",
        "\n",
        "print(score(hand1))\n",
        "print(score(hand2))\n",
        "print(score([2, 3, 4, 5, 6]))\n",
        "print(score([1, 2, 3, 4, 7]))"
      ],
      "metadata": {
        "colab": {
          "base_uri": "https://localhost:8080/"
        },
        "id": "ylnMYTDSvSqC",
        "outputId": "dc344e5f-d96a-4b52-bce2-50c77cb1d611"
      },
      "execution_count": 28,
      "outputs": [
        {
          "output_type": "stream",
          "name": "stdout",
          "text": [
            "{'Ones': 0, 'Twos': 2, 'Threes': 3, 'Fours': 4, 'Fives': 10, 'Sixes': 0, 'Three of a Kind': 0, 'Four of a Kind': 0, 'Full House': 0, 'Small Straight': 30, 'Large Straight': 0, 'Yahtzee': 0, 'Chance': 19}\n",
            "{'Ones': 0, 'Twos': 0, 'Threes': 3, 'Fours': 4, 'Fives': 10, 'Sixes': 6, 'Three of a Kind': 0, 'Four of a Kind': 0, 'Full House': 0, 'Small Straight': 30, 'Large Straight': 0, 'Yahtzee': 0, 'Chance': 23}\n",
            "{'Ones': 0, 'Twos': 2, 'Threes': 3, 'Fours': 4, 'Fives': 5, 'Sixes': 6, 'Three of a Kind': 0, 'Four of a Kind': 0, 'Full House': 0, 'Small Straight': 30, 'Large Straight': 40, 'Yahtzee': 0, 'Chance': 20}\n",
            "None\n"
          ]
        }
      ]
    },
    {
      "cell_type": "code",
      "execution_count": 33,
      "metadata": {
        "colab": {
          "base_uri": "https://localhost:8080/"
        },
        "id": "yHV8WAsBs4lS",
        "outputId": "5de30b4d-f989-4beb-e3f1-393796f3f001"
      },
      "outputs": [
        {
          "output_type": "stream",
          "name": "stderr",
          "text": [
            "..............\n",
            "----------------------------------------------------------------------\n",
            "Ran 14 tests in 0.022s\n",
            "\n",
            "OK\n"
          ]
        }
      ],
      "source": [
        "import unittest\n",
        "class YahtzeeScoringTest(unittest.TestCase):\n",
        "    def test_invalid_input_empty_list(self):\n",
        "        self.assertIsNone(score([]))\n",
        "\n",
        "    def test_invalid_input_less_than_5_dice(self):\n",
        "        self.assertIsNone(score([1, 2, 3]))\n",
        "\n",
        "    def test_invalid_input_more_than_5_dice(self):\n",
        "        self.assertIsNone(score([1, 2, 3, 4, 5, 6]))\n",
        "\n",
        "    def test_invalid_input_out_of_range_dice(self):\n",
        "        self.assertIsNone(score([1, 2, 3, 7, 5]))\n",
        "\n",
        "    def test_upper_section_all_same(self):\n",
        "        self.assertEqual(score([1, 1, 1, 1, 1])[\"Ones\"],5)\n",
        "        self.assertEqual(score([6, 6, 6, 6, 6])[\"Sixes\"],30)\n",
        "\n",
        "    def test_upper_section_none_same(self):\n",
        "        self.assertEqual(score([1, 2, 3, 4, 5])[\"Ones\"], 1)\n",
        "        self.assertEqual(score([1, 2, 3, 4, 5])[\"Twos\"], 2)\n",
        "        self.assertEqual(score([1, 2, 3, 4, 5])[\"Threes\"], 3)\n",
        "        self.assertEqual(score([1, 2, 3, 4, 5])[\"Fours\"],4)\n",
        "        self.assertEqual(score([1, 2, 3, 4, 5])[\"Fives\"], 5)\n",
        "\n",
        "    def test_upper_section_some_same(self):\n",
        "        self.assertEqual(score([2, 2, 3, 4, 2])[\"Twos\"],6)\n",
        "        '''I do not love its categories till here but it does work.'''\n",
        "    def test_three_of_a_kind(self):\n",
        "        self.assertEqual(score([3, 3, 3, 4, 5])[\"Three of a Kind\"],18)\n",
        "        self.assertEqual(score([3, 3, 4, 4, 5])[\"Three of a Kind\"],0)\n",
        "        self.assertEqual(score([4, 4, 4, 5, 6])[\"Three of a Kind\"],23)  # Four of a kind, not three....?? ERROR\n",
        "        self.assertEqual(score([5, 5, 5, 5, 5])[\"Three of a Kind\"],25)  # Yahtzee, not three ERROR\n",
        "\n",
        "    def test_four_of_a_kind(self):\n",
        "        self.assertEqual(score([2, 2, 2, 2, 3])[\"Four of a Kind\"],11)\n",
        "        self.assertEqual(score([3, 3, 3, 5, 5])[\"Four of a Kind\"],0)  # Three of a kind, not four\n",
        "        self.assertEqual(score([6, 6, 6, 6, 6])[\"Four of a Kind\"],30)  # Yahtzee, not four WAS ERRPR\n",
        "\n",
        "    def test_full_house(self):\n",
        "        self.assertEqual(score([2, 2, 2, 3, 3])[\"Full House\"],25)\n",
        "        self.assertEqual(score([4, 4, 4, 5, 6])[\"Full House\"],0)  # Four of a kind, not full house\n",
        "        self.assertEqual(score([1, 2, 3, 4, 5])[\"Full House\"],0)  # No pairs or three of a kind\n",
        "\n",
        "    def test_small_straight(self):\n",
        "        self.assertEqual(score([2, 3, 4, 5, 6])[\"Small Straight\"],30)  # Consecutive after sorting\n",
        "        self.assertIsNone(score([1, 2, 3, 4, 7]))  # WILL NOT BE ACCEPTED. ERROR AGAIN\n",
        "        self.assertEqual(score([3, 5, 2, 1, 4])[\"Small Straight\"],30)  # Not consecutive becomes straight after sorting\n",
        "        self.assertEqual(score([5, 6, 1, 2, 3])[\"Small Straight\"],0)  # Not a small straight even after sorting\n",
        "        self.assertEqual(score([1, 2, 4, 5, 6])[\"Small Straight\"],0)  # NOT consecutive after sorting GAVE ERROR HERE\n",
        "        self.assertEqual(score([2, 3, 5, 6, 1])[\"Small Straight\"],0)  # Consecutive after sorting ERROR\n",
        "        self.assertEqual(score([3, 4, 1, 2, 5])[\"Small Straight\"],30)  # Consecutive after sorting\n",
        "        self.assertEqual(score([4, 5, 2, 3, 6])[\"Small Straight\"],30)  # Consecutive after sorting\n",
        "        self.assertEqual(score([6, 1, 2, 3, 4])[\"Small Straight\"],0)  # Consecutive after sorting ERROR\n",
        "\n",
        "    def test_large_straight(self):\n",
        "        self.assertEqual(score([1, 2, 3, 4, 5])[\"Large Straight\"],40)\n",
        "        self.assertEqual(score([2, 3, 4, 5, 6])[\"Large Straight\"],40)\n",
        "        self.assertEqual(score([3, 2, 4, 5, 6])[\"Large Straight\"],40)  # ERROR AGAIN\n",
        "        self.assertEqual(score([3, 2, 4, 1, 6])[\"Large Straight\"],0)\n",
        "\n",
        "    def test_yahtzee(self):\n",
        "        self.assertEqual(score([5, 5, 5, 5, 5])[\"Yahtzee\"],50)\n",
        "        self.assertEqual(score([4, 4, 4, 3, 4])[\"Yahtzee\"],0)  # Four of a kind, not Yahtzee\n",
        "        self.assertEqual(score([1, 2, 3, 2, 1])[\"Yahtzee\"],0)  # No five of a kind\n",
        "\n",
        "    def test_chance(self):\n",
        "        self.assertEqual(score([2, 3, 4, 5, 6])[\"Chance\"],20)\n",
        "        self.assertEqual(score([1, 1, 1, 2, 2])[\"Chance\"],7)\n",
        "        self.assertEqual(score([5, 5, 5, 5, 5])[\"Chance\"],25)  # Yahtzee also scores the sum for chance\n",
        "\n",
        "if __name__ == '__main__':\n",
        "    unittest.main(argv=['first-arg-is-ignored'], exit=False)\n"
      ]
    }
  ]
}