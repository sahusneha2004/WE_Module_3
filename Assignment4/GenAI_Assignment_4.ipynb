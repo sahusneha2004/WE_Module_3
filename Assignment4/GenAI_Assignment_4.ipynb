{
  "nbformat": 4,
  "nbformat_minor": 0,
  "metadata": {
    "colab": {
      "provenance": [],
      "authorship_tag": "ABX9TyMM2OmQ/ae0gmM63jxcZT+x",
      "include_colab_link": true
    },
    "kernelspec": {
      "name": "python3",
      "display_name": "Python 3"
    },
    "language_info": {
      "name": "python"
    }
  },
  "cells": [
    {
      "cell_type": "markdown",
      "metadata": {
        "id": "view-in-github",
        "colab_type": "text"
      },
      "source": [
        "<a href=\"https://colab.research.google.com/github/dhvanithakkar/WE-Module-3/blob/main/GenAI_Assignment_4.ipynb\" target=\"_parent\"><img src=\"https://colab.research.google.com/assets/colab-badge.svg\" alt=\"Open In Colab\"/></a>"
      ]
    },
    {
      "cell_type": "code",
      "execution_count": 43,
      "metadata": {
        "id": "ubMTvL-JeV6B"
      },
      "outputs": [],
      "source": [
        "from collections import defaultdict\n",
        "import random\n",
        "def build_markov_chain(filetext, n=2):\n",
        "    markov_chain = defaultdict(list)\n",
        "    text = filetext.lower()\n",
        "    words = text.split()\n",
        "    for i in range(len(words) - n):\n",
        "      phrase = tuple(words[i:i + n])  # Create a tuple of n words\n",
        "      markov_chain[phrase].append(words[i + n])\n",
        "    return markov_chain\n",
        "\n",
        "\n",
        "def generate_sentence(markov_chain, start_phrase, output_length, n=2):\n",
        "    \"\"\"\n",
        "    Generates a sentence using the Markov chain, considering phrases of length n.\n",
        "\n",
        "    Args:\n",
        "        markov_chain: The Markov chain dictionary.\n",
        "        start_phrase: A tuple of words with length n, ensuring it's present in the chain.\n",
        "        output_length: The desired length of the sentence.\n",
        "        n: The length of the phrase to consider (default: 2).\n",
        "\n",
        "    Returns:\n",
        "        A string containing the generated sentence, or None if start_phrase not found.\n",
        "    \"\"\"\n",
        "    if start_phrase not in markov_chain:\n",
        "        return None  # Handle non-existent start_phrase\n",
        "\n",
        "    sentence = list(start_phrase)  # Convert start_phrase to a list\n",
        "    current_phrase = tuple(sentence[-n:])\n",
        "    for _ in range(output_length - n):\n",
        "        next_word = random.choice(markov_chain.get(current_phrase, [None]))\n",
        "        if not next_word:\n",
        "            break\n",
        "        sentence.append(next_word)\n",
        "        # current_phrase = tuple(sentence[-n:])\n",
        "        current_phrase = tuple(list(current_phrase)[1:] + [next_word])\n",
        "        # these mean the same thing. I can't tell which is a better way to write\n",
        "    return \" \".join(sentence)\n",
        "\n",
        "output_length = 10"
      ]
    },
    {
      "cell_type": "code",
      "source": [
        "text_1 = \"it is a sunny day. the birds are singing. there are fluffy clouds in the sky. a gentle breeze is blowing.\"\n",
        "start_phrase_1a = (\"the\", )\n",
        "n_1a = 1\n",
        "\n",
        "markov_chain_1 = build_markov_chain(text_1, n_1a)\n",
        "print(markov_chain_1)\n",
        "sentence = generate_sentence(markov_chain_1, start_phrase_1a, output_length, n_1a)\n",
        "\n",
        "print(sentence)"
      ],
      "metadata": {
        "colab": {
          "base_uri": "https://localhost:8080/"
        },
        "id": "6UtHsFgHe0NW",
        "outputId": "b520de67-1405-4ce8-95ff-a48c8273ad45"
      },
      "execution_count": 44,
      "outputs": [
        {
          "output_type": "stream",
          "name": "stdout",
          "text": [
            "defaultdict(<class 'list'>, {('it',): ['is'], ('is',): ['a', 'blowing.'], ('a',): ['sunny', 'gentle'], ('sunny',): ['day.'], ('day.',): ['the'], ('the',): ['birds', 'sky.'], ('birds',): ['are'], ('are',): ['singing.', 'fluffy'], ('singing.',): ['there'], ('there',): ['are'], ('fluffy',): ['clouds'], ('clouds',): ['in'], ('in',): ['the'], ('sky.',): ['a'], ('gentle',): ['breeze'], ('breeze',): ['is']})\n",
            "the sky. a sunny day. the birds are fluffy clouds\n"
          ]
        }
      ]
    },
    {
      "cell_type": "code",
      "source": [
        "text_2 = '''We are the champions, my friends\n",
        "And we'll keep on fighting till the end\n",
        "We are the champions\n",
        "We are the champions\n",
        "No time for losers\n",
        "'Cause we are the champions of the World\n",
        "I've taken my bows\n",
        "And my curtain calls\n",
        "You brought me fame and fortune\n",
        "And everything that goes with it\n",
        "I thank you all'''\n",
        "\n",
        "start_phrase_2a = (\"and\", )\n",
        "n_2a = 1\n",
        "markov_chain_2 = build_markov_chain(text_2, n_2a)\n",
        "print(markov_chain_2)\n",
        "\n",
        "#i used n=1 here again because i'm having fun with its weird sentences\n",
        "\n",
        "sentence = generate_sentence(markov_chain_2, start_phrase_2a, output_length, n_2a)\n",
        "print(sentence)\n",
        "\n",
        "start_phrase_2b = (\"we\", \"are\", )\n",
        "n_2b = 2\n",
        "markov_chain_2 = build_markov_chain(text_2, n_2b)\n",
        "print(markov_chain_2)\n",
        "\n",
        "sentence = generate_sentence(markov_chain_2, start_phrase_2b, output_length, n_2b)\n",
        "print(sentence)"
      ],
      "metadata": {
        "colab": {
          "base_uri": "https://localhost:8080/"
        },
        "id": "utTKMA_Ue5hZ",
        "outputId": "4eddfadd-3bf0-4b4d-d867-26313c0dfed2"
      },
      "execution_count": 45,
      "outputs": [
        {
          "output_type": "stream",
          "name": "stdout",
          "text": [
            "defaultdict(<class 'list'>, {('we',): ['are', 'are', 'are', 'are'], ('are',): ['the', 'the', 'the', 'the'], ('the',): ['champions,', 'end', 'champions', 'champions', 'champions', 'world'], ('champions,',): ['my'], ('my',): ['friends', 'bows', 'curtain'], ('friends',): ['and'], ('and',): [\"we'll\", 'my', 'fortune', 'everything'], (\"we'll\",): ['keep'], ('keep',): ['on'], ('on',): ['fighting'], ('fighting',): ['till'], ('till',): ['the'], ('end',): ['we'], ('champions',): ['we', 'no', 'of'], ('no',): ['time'], ('time',): ['for'], ('for',): ['losers'], ('losers',): [\"'cause\"], (\"'cause\",): ['we'], ('of',): ['the'], ('world',): [\"i've\"], (\"i've\",): ['taken'], ('taken',): ['my'], ('bows',): ['and'], ('curtain',): ['calls'], ('calls',): ['you'], ('you',): ['brought', 'all'], ('brought',): ['me'], ('me',): ['fame'], ('fame',): ['and'], ('fortune',): ['and'], ('everything',): ['that'], ('that',): ['goes'], ('goes',): ['with'], ('with',): ['it'], ('it',): ['i'], ('i',): ['thank'], ('thank',): ['you']})\n",
            "and fortune and fortune and my bows and we'll keep\n",
            "defaultdict(<class 'list'>, {('we', 'are'): ['the', 'the', 'the', 'the'], ('are', 'the'): ['champions,', 'champions', 'champions', 'champions'], ('the', 'champions,'): ['my'], ('champions,', 'my'): ['friends'], ('my', 'friends'): ['and'], ('friends', 'and'): [\"we'll\"], ('and', \"we'll\"): ['keep'], (\"we'll\", 'keep'): ['on'], ('keep', 'on'): ['fighting'], ('on', 'fighting'): ['till'], ('fighting', 'till'): ['the'], ('till', 'the'): ['end'], ('the', 'end'): ['we'], ('end', 'we'): ['are'], ('the', 'champions'): ['we', 'no', 'of'], ('champions', 'we'): ['are'], ('champions', 'no'): ['time'], ('no', 'time'): ['for'], ('time', 'for'): ['losers'], ('for', 'losers'): [\"'cause\"], ('losers', \"'cause\"): ['we'], (\"'cause\", 'we'): ['are'], ('champions', 'of'): ['the'], ('of', 'the'): ['world'], ('the', 'world'): [\"i've\"], ('world', \"i've\"): ['taken'], (\"i've\", 'taken'): ['my'], ('taken', 'my'): ['bows'], ('my', 'bows'): ['and'], ('bows', 'and'): ['my'], ('and', 'my'): ['curtain'], ('my', 'curtain'): ['calls'], ('curtain', 'calls'): ['you'], ('calls', 'you'): ['brought'], ('you', 'brought'): ['me'], ('brought', 'me'): ['fame'], ('me', 'fame'): ['and'], ('fame', 'and'): ['fortune'], ('and', 'fortune'): ['and'], ('fortune', 'and'): ['everything'], ('and', 'everything'): ['that'], ('everything', 'that'): ['goes'], ('that', 'goes'): ['with'], ('goes', 'with'): ['it'], ('with', 'it'): ['i'], ('it', 'i'): ['thank'], ('i', 'thank'): ['you'], ('thank', 'you'): ['all']})\n",
            "we are the champions no time for losers 'cause we\n"
          ]
        }
      ]
    },
    {
      "cell_type": "code",
      "source": [
        "text_3 = '''A new study has found that regular exercise can improve brain health. The study, published in the journal Nature, involved over 10,000 participants. The participants were followed for a period of five years. During the study, the participants were asked to complete a series of cognitive tests. The results of the study showed that those who exercised regularly performed better on the cognitive tests.'''\n",
        "\n",
        "start_phrase_3a = (\"the\", )\n",
        "n_3a = 1\n",
        "\n",
        "markov_chain_3 = build_markov_chain(text_3, n_3a)\n",
        "print(markov_chain_3)\n",
        "sentence = generate_sentence(markov_chain_3, start_phrase_3a, 15, n_3a)\n",
        "print(sentence)\n",
        "\n",
        "start_phrase_3b = (\"the\", \"study\")\n",
        "n_3b = 2\n",
        "\n",
        "markov_chain_3 = build_markov_chain(text_3, n_3b)\n",
        "print(markov_chain_3)\n",
        "sentence = generate_sentence(markov_chain_3, start_phrase_3b, 15, n_3b)\n",
        "print(sentence)"
      ],
      "metadata": {
        "colab": {
          "base_uri": "https://localhost:8080/"
        },
        "id": "mTiP3YVpfwjJ",
        "outputId": "04fb0347-b0d2-4f9a-95e4-381a23c91f08"
      },
      "execution_count": 46,
      "outputs": [
        {
          "output_type": "stream",
          "name": "stdout",
          "text": [
            "defaultdict(<class 'list'>, {('a',): ['new', 'period', 'series'], ('new',): ['study'], ('study',): ['has', 'showed'], ('has',): ['found'], ('found',): ['that'], ('that',): ['regular', 'those'], ('regular',): ['exercise'], ('exercise',): ['can'], ('can',): ['improve'], ('improve',): ['brain'], ('brain',): ['health.'], ('health.',): ['the'], ('the',): ['study,', 'journal', 'participants', 'study,', 'participants', 'results', 'study', 'cognitive'], ('study,',): ['published', 'the'], ('published',): ['in'], ('in',): ['the'], ('journal',): ['nature,'], ('nature,',): ['involved'], ('involved',): ['over'], ('over',): ['10,000'], ('10,000',): ['participants.'], ('participants.',): ['the'], ('participants',): ['were', 'were'], ('were',): ['followed', 'asked'], ('followed',): ['for'], ('for',): ['a'], ('period',): ['of'], ('of',): ['five', 'cognitive', 'the'], ('five',): ['years.'], ('years.',): ['during'], ('during',): ['the'], ('asked',): ['to'], ('to',): ['complete'], ('complete',): ['a'], ('series',): ['of'], ('cognitive',): ['tests.', 'tests.'], ('tests.',): ['the'], ('results',): ['of'], ('showed',): ['that'], ('those',): ['who'], ('who',): ['exercised'], ('exercised',): ['regularly'], ('regularly',): ['performed'], ('performed',): ['better'], ('better',): ['on'], ('on',): ['the']})\n",
            "the study has found that those who exercised regularly performed better on the participants were\n",
            "defaultdict(<class 'list'>, {('a', 'new'): ['study'], ('new', 'study'): ['has'], ('study', 'has'): ['found'], ('has', 'found'): ['that'], ('found', 'that'): ['regular'], ('that', 'regular'): ['exercise'], ('regular', 'exercise'): ['can'], ('exercise', 'can'): ['improve'], ('can', 'improve'): ['brain'], ('improve', 'brain'): ['health.'], ('brain', 'health.'): ['the'], ('health.', 'the'): ['study,'], ('the', 'study,'): ['published', 'the'], ('study,', 'published'): ['in'], ('published', 'in'): ['the'], ('in', 'the'): ['journal'], ('the', 'journal'): ['nature,'], ('journal', 'nature,'): ['involved'], ('nature,', 'involved'): ['over'], ('involved', 'over'): ['10,000'], ('over', '10,000'): ['participants.'], ('10,000', 'participants.'): ['the'], ('participants.', 'the'): ['participants'], ('the', 'participants'): ['were', 'were'], ('participants', 'were'): ['followed', 'asked'], ('were', 'followed'): ['for'], ('followed', 'for'): ['a'], ('for', 'a'): ['period'], ('a', 'period'): ['of'], ('period', 'of'): ['five'], ('of', 'five'): ['years.'], ('five', 'years.'): ['during'], ('years.', 'during'): ['the'], ('during', 'the'): ['study,'], ('study,', 'the'): ['participants'], ('were', 'asked'): ['to'], ('asked', 'to'): ['complete'], ('to', 'complete'): ['a'], ('complete', 'a'): ['series'], ('a', 'series'): ['of'], ('series', 'of'): ['cognitive'], ('of', 'cognitive'): ['tests.'], ('cognitive', 'tests.'): ['the'], ('tests.', 'the'): ['results'], ('the', 'results'): ['of'], ('results', 'of'): ['the'], ('of', 'the'): ['study'], ('the', 'study'): ['showed'], ('study', 'showed'): ['that'], ('showed', 'that'): ['those'], ('that', 'those'): ['who'], ('those', 'who'): ['exercised'], ('who', 'exercised'): ['regularly'], ('exercised', 'regularly'): ['performed'], ('regularly', 'performed'): ['better'], ('performed', 'better'): ['on'], ('better', 'on'): ['the'], ('on', 'the'): ['cognitive'], ('the', 'cognitive'): ['tests.']})\n",
            "the study showed that those who exercised regularly performed better on the cognitive tests. the\n"
          ]
        }
      ]
    }
  ]
}
