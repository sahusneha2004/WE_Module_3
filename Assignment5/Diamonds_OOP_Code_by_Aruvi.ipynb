{
  "cells": [
    {
      "cell_type": "markdown",
      "metadata": {
        "id": "view-in-github",
        "colab_type": "text"
      },
      "source": [
        "<a href=\"https://colab.research.google.com/github/dhvanithakkar/WE-Module-3/blob/main/Assignment5/Diamonds_OOP_Code_by_Aruvi.ipynb\" target=\"_parent\"><img src=\"https://colab.research.google.com/assets/colab-badge.svg\" alt=\"Open In Colab\"/></a>"
      ]
    },
    {
      "cell_type": "markdown",
      "source": [
        "Diamonds Game Object Oriented Code written by Aruvi (May 2023 WE Cohort5 Bootcamp)"
      ],
      "metadata": {
        "id": "q9eke9N17WOz"
      },
      "id": "q9eke9N17WOz"
    },
    {
      "cell_type": "markdown",
      "source": [
        "https://g.co/gemini/share/b4512e4e8e4a"
      ],
      "metadata": {
        "id": "Sz3Qo7slChAG"
      },
      "id": "Sz3Qo7slChAG"
    },
    {
      "cell_type": "code",
      "execution_count": null,
      "id": "charitable-director",
      "metadata": {
        "id": "charitable-director",
        "outputId": "18c45821-5771-4d76-c47c-b5fe31cd121d"
      },
      "outputs": [
        {
          "name": "stdout",
          "output_type": "stream",
          "text": [
            "The open card is 7D\n",
            "Player of suit S:\n",
            "Your elapsed bets are: []\n",
            "Just enter the rank you want to bet 23456789TJQKA\n",
            "8\n",
            "7.0 points divided equally among ['H']\n",
            "[7D]\n",
            "[Suit:S, score: 0, elapsed bets:[8S], Suit:H, score: 7.0, elapsed bets:[KH], Suit:C, score: 0, elapsed bets:[TC]]\n"
          ]
        }
      ],
      "source": [
        "import random\n",
        "\n",
        "class Card:\n",
        "    SUITS = 'SHDC'\n",
        "    RANKS = '__23456789TJQKA'\n",
        "\n",
        "    def __init__(self, suit: str, rank: str) -> None:\n",
        "        self.suit = suit\n",
        "        self.rank = rank\n",
        "\n",
        "    def __eq__(self, other):\n",
        "        return self.suit == other.suit and self.rank == other.rank\n",
        "\n",
        "    def __repr__(self):\n",
        "        return self.rank + self.suit\n",
        "\n",
        "    def worth(self):\n",
        "        return Card.RANKS.index(self.rank)\n",
        "\n",
        "class Deck:\n",
        "    def __init__(self):\n",
        "        self.cards = [Card(suit, rank) for suit in Card.SUITS for rank in Card.RANKS[2:]]\n",
        "\n",
        "    def withdraw(self, card):\n",
        "        self.cards.remove(card)\n",
        "        return card\n",
        "\n",
        "    def withdraw_all(self, suit):\n",
        "        to_withdraw = [card for card in self.cards if card.suit == suit]\n",
        "        for card in to_withdraw:\n",
        "            self.withdraw(card)\n",
        "        return to_withdraw\n",
        "\n",
        "class Hand:\n",
        "    def __init__(self, cards):\n",
        "        self.cards = cards\n",
        "\n",
        "    def withdraw(self, card):\n",
        "        self.cards.remove(card)\n",
        "        return card\n",
        "\n",
        "    def shuffle(self):\n",
        "        random.shuffle(self.cards)\n",
        "\n",
        "class Player:\n",
        "    def __init__(self, suit, hand):\n",
        "        self.suit = suit\n",
        "        self.score = 0\n",
        "        self.hand = hand\n",
        "        self.current_bet = None\n",
        "        self.elapsed_bets = []\n",
        "\n",
        "    def bet(self, card):\n",
        "        self.current_bet = self.hand.withdraw(card)\n",
        "        self.elapsed_bets.append(self.current_bet)\n",
        "\n",
        "    def __eq__(self, other):\n",
        "        return self.suit == other.suit\n",
        "\n",
        "    def __hash__(self):\n",
        "        return hash(self.suit)\n",
        "\n",
        "    def __repr__(self):\n",
        "        return f'Suit:{self.suit}, score: {self.score}, elapsed bets:{self.elapsed_bets}'\n",
        "\n",
        "class Human(Player):\n",
        "    def decide(self, prize, elapsed_prizes, elapsed_bets):\n",
        "        print(f'''Player of suit {self.suit}:''')\n",
        "        print(f'''Your elapsed bets are: {self.elapsed_bets}''')\n",
        "        print(f'''Just enter the rank you want to bet 23456789TJQKA''')\n",
        "        choice = input()\n",
        "        return Card(self.suit, choice)\n",
        "\n",
        "class RandomComputer(Player):\n",
        "    def decide(self, prize, elapsed_prizes, elapsed_bets):\n",
        "        return random.choice(self.hand.cards)\n",
        "\n",
        "class Diamonds_Game:\n",
        "    def __init__(self):\n",
        "        deck = Deck()\n",
        "        self.diamonds = deck.withdraw_all('D')\n",
        "        random.shuffle(self.diamonds)\n",
        "        self.players = [Human('S', Hand(deck.withdraw_all('S')))]\n",
        "        for suit in 'HC':\n",
        "            player = RandomComputer(suit, Hand(deck.withdraw_all(suit)))\n",
        "            player.hand.shuffle()\n",
        "            self.players.append(player)\n",
        "\n",
        "        self.elapsed_prizes = []\n",
        "        self.prize = None\n",
        "\n",
        "    def decide_winning_bet(self):\n",
        "        players_bet_amounts = {player: player.current_bet.worth() for player in self.players}\n",
        "        highest_bet_amount = max(players_bet_amounts.values())\n",
        "        winners = [player for player in players_bet_amounts if players_bet_amounts[player] == highest_bet_amount]\n",
        "        return winners\n",
        "\n",
        "    def distribute_points(self, winners):\n",
        "        points_to_distribute = self.prize.worth() / len(winners)\n",
        "        for winner in winners:\n",
        "            winner.score += points_to_distribute\n",
        "        print(f'''{points_to_distribute} points divided equally among {[winner.suit for winner in winners]}''')\n",
        "\n",
        "    def single_round(self):\n",
        "        self.prize = self.diamonds.pop(0)\n",
        "        print(f'''The open card is {self.prize}''')\n",
        "        elapsed_bets = {player: player.elapsed_bets for player in players}\n",
        "        for player in self.players:\n",
        "            player.bet(player.decide(self.prize, self.elapsed_prizes, all_elapsed_bets))\n",
        "        winners = self.decide_winning_bet()\n",
        "        self.distribute_points(winners)\n",
        "        self.elapsed_prizes.append(self.prize)\n",
        "\n",
        "    def main(self):\n",
        "        while self.diamonds:\n",
        "            self.single_round()\n",
        "        print(f'''Game over. Final scores: {[player.score for player in self.players]}''')\n",
        "        print(f'''Winner: {max(players, key=lambda player: player.score)}''')\n",
        "\n",
        "d = Diamonds_Game()\n",
        "d.single_round()\n",
        "print(d.elapsed_prizes)\n",
        "print(d.players)\n"
      ]
    },
    {
      "cell_type": "code",
      "execution_count": null,
      "id": "unnecessary-small",
      "metadata": {
        "id": "unnecessary-small"
      },
      "outputs": [],
      "source": []
    }
  ],
  "metadata": {
    "kernelspec": {
      "display_name": "Python 3 (ipykernel)",
      "language": "python",
      "name": "python3"
    },
    "language_info": {
      "codemirror_mode": {
        "name": "ipython",
        "version": 3
      },
      "file_extension": ".py",
      "mimetype": "text/x-python",
      "name": "python",
      "nbconvert_exporter": "python",
      "pygments_lexer": "ipython3",
      "version": "3.9.2"
    },
    "colab": {
      "provenance": [],
      "include_colab_link": true
    }
  },
  "nbformat": 4,
  "nbformat_minor": 5
}